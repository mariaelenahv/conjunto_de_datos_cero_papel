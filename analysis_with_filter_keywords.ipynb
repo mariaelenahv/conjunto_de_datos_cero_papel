{
 "cells": [
  {
   "cell_type": "code",
   "execution_count": 13,
   "id": "b2aba5a1-a0a2-483e-a5cb-fbde84839313",
   "metadata": {},
   "outputs": [],
   "source": [
    "import pandas as pd\n",
    "import unicodedata"
   ]
  },
  {
   "cell_type": "code",
   "execution_count": 14,
   "id": "39c3291b-eb8d-4ce9-85ff-a1a1c16e6e58",
   "metadata": {},
   "outputs": [],
   "source": [
    "def find_keywords(name_oc, keywords):\n",
    "    name_oc = unicodedata.normalize(\"NFKD\", name_oc.lower()).encode(\"ascii\", \"ignore\").decode(\"ascii\")\n",
    "    if \"papel para impresora\" in name_oc:\n",
    "        return False\n",
    "    return any(keyword in name_oc for keyword in keywords)\n"
   ]
  },
  {
   "cell_type": "code",
   "execution_count": 15,
   "id": "16ba64eb-8dbb-4e16-869c-1823c60ce382",
   "metadata": {},
   "outputs": [],
   "source": [
    "csv_filename = \"dataset_2024_gastos_papel_bruto.csv\" \n",
    "columna_oc   = 'Rubro de gasto'\n",
    "keywords     = [\"impresora\",\"opalina\",\"bond\",\"plotter\",\"vinilo\",\"kraft\",\"imantado\",\"couche\",\"termico\",\"afiches\",\"electrocardiograma\",\"adhesivo\", \"lienzos\", \"ecografica\",\"arriendo\",\"mecanizado\"]"
   ]
  },
  {
   "cell_type": "code",
   "execution_count": 16,
   "id": "e071fac4-f052-4dd8-b40b-c7b556894e17",
   "metadata": {},
   "outputs": [
    {
     "name": "stdout",
     "output_type": "stream",
     "text": [
      "Número de registros que contienen palabras clave: 57\n",
      "Número de registros que no contienen palabras clave: 495\n",
      "Datos sin palabras clave guardados como filtered_dataset_2024_gastos_papel.csv\n"
     ]
    }
   ],
   "source": [
    "df             = pd.read_csv(csv_filename)\n",
    "filtered_csv   = 'filtered_'+csv_filename  \n",
    "df_keywords    = df[df[columna_oc].apply(lambda x: find_keywords(x, keywords))]\n",
    "df_no_keywords = df[~df[columna_oc].apply(lambda x: find_keywords(x, keywords))]\n",
    "df_no_keywords.to_csv(filtered_csv, index=False)\n",
    "\n",
    "print(f\"Número de registros que contienen palabras clave: {len(df_keywords)}\")\n",
    "print(f\"Número de registros que no contienen palabras clave: {len(df_no_keywords)}\")\n",
    "print(f\"Datos sin palabras clave guardados como {filtered_csv}\")"
   ]
  },
  {
   "cell_type": "code",
   "execution_count": null,
   "id": "e6656696-fa3e-4156-8c6a-5783366a3f15",
   "metadata": {},
   "outputs": [],
   "source": []
  },
  {
   "cell_type": "code",
   "execution_count": null,
   "id": "f299abfb-afd1-4aed-9cdc-487cbcb9c283",
   "metadata": {},
   "outputs": [],
   "source": []
  },
  {
   "cell_type": "code",
   "execution_count": null,
   "id": "2fa80c88-a041-4e36-bb37-71eab64ce8d5",
   "metadata": {},
   "outputs": [],
   "source": []
  }
 ],
 "metadata": {
  "kernelspec": {
   "display_name": "Python 3 (ipykernel)",
   "language": "python",
   "name": "python3"
  },
  "language_info": {
   "codemirror_mode": {
    "name": "ipython",
    "version": 3
   },
   "file_extension": ".py",
   "mimetype": "text/x-python",
   "name": "python",
   "nbconvert_exporter": "python",
   "pygments_lexer": "ipython3",
   "version": "3.10.12"
  }
 },
 "nbformat": 4,
 "nbformat_minor": 5
}

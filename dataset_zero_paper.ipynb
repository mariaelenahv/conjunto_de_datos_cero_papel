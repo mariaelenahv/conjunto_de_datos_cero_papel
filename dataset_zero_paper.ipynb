{
 "cells": [
  {
   "cell_type": "code",
   "execution_count": null,
   "id": "d6ad0813-efee-466d-b256-6932d8a57bf5",
   "metadata": {},
   "outputs": [],
   "source": [
    "import os\n",
    "import time\n",
    "import requests\n",
    "import unicodedata\n",
    "import pandas as pd\n",
    "from datetime import datetime, timedelta\n",
    "from geopy.geocoders import Nominatim"
   ]
  },
  {
   "cell_type": "code",
   "execution_count": null,
   "id": "107e3358-4940-44ea-9934-97ef247067e4",
   "metadata": {},
   "outputs": [],
   "source": [
    "def csv(namefile, dataset):\n",
    "    new_df = pd.DataFrame([dataset])\n",
    "    if os.path.isfile(namefile):\n",
    "        existing_df = pd.read_csv(namefile)\n",
    "        updated_df = pd.concat([existing_df, new_df], ignore_index=True)\n",
    "    else:\n",
    "        updated_df = new_df\n",
    "    updated_df.to_csv(namefile, index=False)\n"
   ]
  },
  {
   "cell_type": "code",
   "execution_count": null,
   "id": "cf4636b9-4a96-460c-9839-ef9fcf333845",
   "metadata": {},
   "outputs": [],
   "source": [
    "\n",
    "def response(url, max_retries=2, delay=2):\n",
    "    for attempt in range(max_retries):\n",
    "        try:\n",
    "            response = requests.get(url)\n",
    "            if response.status_code == 200:\n",
    "                data = response.json()\n",
    "                return data\n",
    "            else:\n",
    "                print (\"Attempt ->\", max_retries)\n",
    "                print(f\"Error {response.status_code}: Unable to retrieve the information for url-> {url}.\")\n",
    "        except requests.exceptions.RequestException as e:\n",
    "            print(f\"Attempt {attempt + 1} failed with error: {e}\")\n",
    "\n",
    "        if attempt < max_retries - 1:\n",
    "            time.sleep(delay)\n",
    "            \n",
    "    print(\"Max retries reached. Unable to retrieve the data.\")\n",
    "    return None\n"
   ]
  },
  {
   "cell_type": "code",
   "execution_count": null,
   "id": "65758a20-7fa9-4451-8890-61426d6623fc",
   "metadata": {},
   "outputs": [],
   "source": [
    "def generate_dates(tini, tend):\n",
    "    fecha_inicio = datetime.strptime(tini, \"%d%m%Y\")\n",
    "    fecha_fin = datetime.strptime(tend, \"%d%m%Y\")\n",
    "    delta = timedelta(days=1)\n",
    "    fechas = []\n",
    "    while fecha_inicio <= fecha_fin:\n",
    "        fechas.append(fecha_inicio.strftime(\"%d%m%Y\"))\n",
    "        fecha_inicio += delta\n",
    "    return fechas"
   ]
  },
  {
   "cell_type": "code",
   "execution_count": null,
   "id": "3d8795d3-a418-4b87-b31b-d5476cf91934",
   "metadata": {},
   "outputs": [],
   "source": [
    "def date_format(date):\n",
    "    date_dt = datetime.strptime(date.split('T')[0], '%Y-%m-%d')\n",
    "    months = ['Enero', 'Febrero', 'Marzo', 'Abril', 'Mayo', 'Junio','Julio', 'Agosto', 'Septiembre', 'Octubre', 'Noviembre', 'Diciembre']\n",
    "    month = months[date_dt.month - 1]\n",
    "    date = f\"{month}/{date_dt.year}\"\n",
    "    return(date)"
   ]
  },
  {
   "cell_type": "code",
   "execution_count": null,
   "id": "ea3c9e35-7847-41a0-bd43-d810147440c4",
   "metadata": {},
   "outputs": [],
   "source": [
    "def latlong(inst, address, retries=5, backoff_factor=0.5):\n",
    "    loc = Nominatim(user_agent=\"localhost\")\n",
    "    for attempt in range(retries):\n",
    "        try:\n",
    "            getLoc = loc.geocode(inst)\n",
    "            if not getLoc:\n",
    "                getLoc = loc.geocode(address)\n",
    "            if getLoc:\n",
    "                return (\"{},{}\".format(getLoc.latitude, getLoc.longitude))\n",
    "            else:\n",
    "                return (\"0,0\")\n",
    "        except (requests.exceptions.RequestException, Exception) as e:\n",
    "            if attempt < retries - 1:\n",
    "                # Exponential backoff\n",
    "                wait_time = backoff_factor * (2 ** attempt)\n",
    "                print(f\"Attempt {attempt + 1} failed: {e}. Retrying in {wait_time:.1f} seconds...\")\n",
    "                time.sleep(wait_time)\n",
    "            else:\n",
    "                # Final failure after retries exhausted\n",
    "                print(f\"Final attempt failed: {e}\")\n",
    "                return (\"0,0\")\n",
    "\n"
   ]
  },
  {
   "cell_type": "code",
   "execution_count": null,
   "id": "18536b86-1be2-4c12-98e3-515ba752c2d0",
   "metadata": {},
   "outputs": [],
   "source": [
    "def find_keywords(name_oc, keywords, flag = False, kw_found = 0):\n",
    "    name_oc   = unicodedata.normalize(\"NFKD\", name_oc.lower()).encode(\"ascii\",\"ignore\").decode(\"ascii\")\n",
    "    kw_found += sum(1 for w in keywords if w in name_oc)\n",
    "    if kw_found >=2: flag = True\n",
    "    return flag"
   ]
  },
  {
   "cell_type": "code",
   "execution_count": null,
   "id": "58ffaf51-a0ff-42ce-a4dc-09b3f2300cc8",
   "metadata": {},
   "outputs": [],
   "source": [
    "################## Input data #######################\n",
    "keywords = [\"papel\",\"resma\",\"imprimir\",\"impresion\",\"fotocopia\",\"carta\",\"oficio\",\"impresora\"]\n",
    "csv_name = \"dataset_2024_gastos_papel_bruto.csv\"  \n",
    "tini     = \"01012024\"\n",
    "tend     = \"15012024\"\n",
    "ticket                = \"F8537A18-6766-4DEF-9E59-426B4FEE2844\" \n",
    "endpoint_institutions = \"https://api.mercadopublico.cl/servicios/v1/Publico/Empresas/BuscarComprador?\"\n",
    "endpoint_oc           = \"https://api.mercadopublico.cl/servicios/v1/Publico/ordenesDeCompra.json?\""
   ]
  },
  {
   "cell_type": "code",
   "execution_count": null,
   "id": "ebc984b4-a4ad-44ba-bfc8-6dcab5163241",
   "metadata": {
    "scrolled": true
   },
   "outputs": [],
   "source": [
    "################## Search purchase orders by each institution #######################\n",
    "dates = generate_dates(tini, tend)\n",
    "try:\n",
    "    institutions = response(f\"{endpoint_institutions}ticket={ticket}\")\n",
    "    if institutions.get('listaEmpresas'):#900\n",
    "        print (institutions)\n",
    "        for org in institutions.get('listaEmpresas'):\n",
    "            code = org.get(\"CodigoEmpresa\")\n",
    "            print (\"Institución: {} - Código: {}\".format(org.get(\"NombreEmpresa\"), code))\n",
    "            for date in dates:\n",
    "                url_oc = f\"{endpoint_oc}fecha={date}&estado=aceptada&CodigoOrganismo={code}&ticket={ticket}\"\n",
    "                response_oc = response(url_oc)\n",
    "                if response_oc and response_oc.get('Listado'):\n",
    "                    print(\"Total OC ->\", response_oc.get(\"Cantidad\"))\n",
    "                    for oc in response_oc.get('Listado'):\n",
    "                        name_oc = oc.get(\"Nombre\")\n",
    "                        data    = find_keywords(name_oc, keywords) \n",
    "                        if data:\n",
    "                            url_code  =  f\"{endpoint_oc}codigo={oc.get('Codigo')}&ticket={ticket}\"\n",
    "                            info_code = response(url_code)\n",
    "                            if info_code and info_code.get(\"Listado\"):\n",
    "                                data     = info_code.get(\"Listado\")[0]\n",
    "                                print (data)\n",
    "                                date_csv = date_format(data.get(\"Fechas\").get(\"FechaAceptacion\"))\n",
    "                                name_org = data.get(\"Comprador\").get(\"NombreOrganismo\")\n",
    "                                if name_org.startswith(\"I MUNICIPALIDAD\"): name_org = (\"ILUSTRE{}\".format(name_org[1:]))\n",
    "                                address = data.get(\"Comprador\").get(\"DireccionUnidad\")\n",
    "                                coord = latlong(name_org, address)\n",
    "                                dataset_oc = {\n",
    "                                    \"Institución Padre\": data.get(\"Comprador\").get(\"NombreOrganismo\"),\n",
    "                                    \"Dirección\": address,\n",
    "                                    \"Comuna\": data.get(\"Comprador\").get(\"ComunaUnidad\"),\n",
    "                                    \"Región\": data.get(\"Comprador\").get(\"RegionUnidad\"),\n",
    "                                    \"Coordenadas Geográficas\": coord,\n",
    "                                    \"Rubro de gasto\": name_oc,\n",
    "                                    \"Periodo\": date_csv,\n",
    "                                    \"Gasto\": int(data.get(\"Total\"))\n",
    "                                }\n",
    "                                csv(csv_name, dataset_oc)\n",
    "                            else:\n",
    "                                print (\"Request failed for code:\",name_oc) \n",
    "      \n",
    "except requests.exceptions.RequestException as e: \n",
    "    print(e)\n"
   ]
  },
  {
   "cell_type": "code",
   "execution_count": null,
   "id": "128a76ce-c2ac-4d97-b7f6-09b03c24585e",
   "metadata": {},
   "outputs": [],
   "source": [
    "\n",
    "            "
   ]
  },
  {
   "cell_type": "code",
   "execution_count": null,
   "id": "854beae7-eb86-4628-a1b3-48d30cc52343",
   "metadata": {},
   "outputs": [],
   "source": []
  },
  {
   "cell_type": "code",
   "execution_count": null,
   "id": "dba02d8b-0aef-48ec-9cfe-e2821ce48685",
   "metadata": {},
   "outputs": [],
   "source": []
  },
  {
   "cell_type": "code",
   "execution_count": null,
   "id": "40533080-6eb6-495a-8733-34dbacdb4808",
   "metadata": {},
   "outputs": [],
   "source": [
    "\n"
   ]
  },
  {
   "cell_type": "code",
   "execution_count": null,
   "id": "52012524-d028-48b5-ae6d-a7d819c95b2b",
   "metadata": {},
   "outputs": [],
   "source": []
  },
  {
   "cell_type": "code",
   "execution_count": null,
   "id": "1487794e-c251-4d60-a215-ef79ef6fc4f1",
   "metadata": {},
   "outputs": [],
   "source": [
    " "
   ]
  },
  {
   "cell_type": "code",
   "execution_count": null,
   "id": "4bdcc488-9cff-48ce-80c2-1916645a120c",
   "metadata": {},
   "outputs": [],
   "source": []
  },
  {
   "cell_type": "code",
   "execution_count": null,
   "id": "cd8b5e66-7551-427c-8af7-30a042790175",
   "metadata": {},
   "outputs": [],
   "source": []
  },
  {
   "cell_type": "code",
   "execution_count": null,
   "id": "f8cff870-145b-44dd-8599-7e9482a9f698",
   "metadata": {},
   "outputs": [],
   "source": []
  },
  {
   "cell_type": "code",
   "execution_count": null,
   "id": "12a08e1d-61f2-4670-bf81-83ef6122caca",
   "metadata": {},
   "outputs": [],
   "source": []
  },
  {
   "cell_type": "code",
   "execution_count": null,
   "id": "c55b5048-9300-4534-a003-0f2d07d78979",
   "metadata": {},
   "outputs": [],
   "source": []
  },
  {
   "cell_type": "code",
   "execution_count": null,
   "id": "7b78eb1d-95a3-4b56-8e61-46ddeb4af9be",
   "metadata": {},
   "outputs": [],
   "source": []
  },
  {
   "cell_type": "code",
   "execution_count": null,
   "id": "558736e3-e886-4117-b233-8bff6eb18ded",
   "metadata": {},
   "outputs": [],
   "source": []
  },
  {
   "cell_type": "code",
   "execution_count": null,
   "id": "effd3632-aae3-4ef0-b52f-ea7a94f5c106",
   "metadata": {},
   "outputs": [],
   "source": []
  },
  {
   "cell_type": "code",
   "execution_count": null,
   "id": "25fca7c6-ba2b-4775-b735-3be77e7a0f56",
   "metadata": {},
   "outputs": [],
   "source": []
  },
  {
   "cell_type": "code",
   "execution_count": null,
   "id": "a699b29f-aa5f-4236-b650-9001dc14e673",
   "metadata": {},
   "outputs": [],
   "source": []
  },
  {
   "cell_type": "code",
   "execution_count": null,
   "id": "9da26e48-c2b1-4220-a3d9-9e85559b6395",
   "metadata": {},
   "outputs": [],
   "source": []
  },
  {
   "cell_type": "code",
   "execution_count": null,
   "id": "a9a7ba55-628f-486b-90be-44616487d7d8",
   "metadata": {},
   "outputs": [],
   "source": []
  },
  {
   "cell_type": "code",
   "execution_count": null,
   "id": "6d9d6552-e4eb-4016-91d7-ec29c7549d15",
   "metadata": {},
   "outputs": [],
   "source": []
  },
  {
   "cell_type": "code",
   "execution_count": null,
   "id": "e80c1db7-91c2-4ada-9220-a3807d386098",
   "metadata": {},
   "outputs": [],
   "source": []
  },
  {
   "cell_type": "code",
   "execution_count": null,
   "id": "a540d818-9cf6-40e8-a562-9cd21aa472b8",
   "metadata": {},
   "outputs": [],
   "source": []
  },
  {
   "cell_type": "code",
   "execution_count": null,
   "id": "3f1769ca-5edd-4fd9-bd39-1373233a3a83",
   "metadata": {},
   "outputs": [],
   "source": []
  },
  {
   "cell_type": "code",
   "execution_count": null,
   "id": "001a00d9-bdb0-4d3a-8ee9-0e4d894b8ef5",
   "metadata": {},
   "outputs": [],
   "source": []
  },
  {
   "cell_type": "code",
   "execution_count": null,
   "id": "f3eaaf13-c0c6-4077-bc1b-1cf176cb1c0e",
   "metadata": {},
   "outputs": [],
   "source": []
  },
  {
   "cell_type": "code",
   "execution_count": null,
   "id": "e5385353-09d6-411e-a1b6-38b79bbfdfc5",
   "metadata": {},
   "outputs": [],
   "source": []
  },
  {
   "cell_type": "code",
   "execution_count": null,
   "id": "6872ba9a-48ce-4737-8d23-740261789211",
   "metadata": {},
   "outputs": [],
   "source": []
  },
  {
   "cell_type": "code",
   "execution_count": null,
   "id": "508e0800-5b42-4da5-b9cb-692ef9f66f31",
   "metadata": {},
   "outputs": [],
   "source": []
  },
  {
   "cell_type": "code",
   "execution_count": null,
   "id": "d67a87a4-d457-4400-9348-c08f96fbf00e",
   "metadata": {},
   "outputs": [],
   "source": []
  },
  {
   "cell_type": "code",
   "execution_count": null,
   "id": "c3ba05b1-36fb-4fd8-b725-daa46ac125c2",
   "metadata": {},
   "outputs": [],
   "source": []
  }
 ],
 "metadata": {
  "kernelspec": {
   "display_name": "Python 3 (ipykernel)",
   "language": "python",
   "name": "python3"
  },
  "language_info": {
   "codemirror_mode": {
    "name": "ipython",
    "version": 3
   },
   "file_extension": ".py",
   "mimetype": "text/x-python",
   "name": "python",
   "nbconvert_exporter": "python",
   "pygments_lexer": "ipython3",
   "version": "3.10.12"
  }
 },
 "nbformat": 4,
 "nbformat_minor": 5
}
